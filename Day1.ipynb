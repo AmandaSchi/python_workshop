{
 "cells": [
  {
   "cell_type": "code",
   "execution_count": 2,
   "id": "94c98b09-ea21-4ed3-a03e-3417e34cb3e2",
   "metadata": {},
   "outputs": [
    {
     "data": {
      "text/plain": [
       "1.5"
      ]
     },
     "execution_count": 2,
     "metadata": {},
     "output_type": "execute_result"
    }
   ],
   "source": [
    "3 / 2"
   ]
  },
  {
   "cell_type": "markdown",
   "id": "c084a6f9-5f69-4e77-9003-4ce66167e7d9",
   "metadata": {},
   "source": [
    "## Calculation and Learning Code\n",
    "\n",
    "### We'll do some things"
   ]
  },
  {
   "cell_type": "code",
   "execution_count": 3,
   "id": "a1a324e6-4acd-4805-a181-6c0d1dfc7fe2",
   "metadata": {},
   "outputs": [],
   "source": [
    "age = 46\n",
    "first_name = 'Amanda'"
   ]
  },
  {
   "cell_type": "code",
   "execution_count": 4,
   "id": "54de5eb4-00b0-46ed-9137-83ffd0fddf6a",
   "metadata": {},
   "outputs": [
    {
     "data": {
      "text/plain": [
       "46"
      ]
     },
     "execution_count": 4,
     "metadata": {},
     "output_type": "execute_result"
    }
   ],
   "source": [
    "age"
   ]
  },
  {
   "cell_type": "code",
   "execution_count": 5,
   "id": "e76419d8-2d1e-488f-ad52-eda028f2ef2f",
   "metadata": {},
   "outputs": [
    {
     "data": {
      "text/plain": [
       "'Amanda'"
      ]
     },
     "execution_count": 5,
     "metadata": {},
     "output_type": "execute_result"
    }
   ],
   "source": [
    "first_name"
   ]
  },
  {
   "cell_type": "code",
   "execution_count": 6,
   "id": "f3062eb4-83da-4a16-b6a0-84b8c6b6bbaa",
   "metadata": {},
   "outputs": [
    {
     "name": "stdout",
     "output_type": "stream",
     "text": [
      "My name is Amanda and my age is 46\n"
     ]
    }
   ],
   "source": [
    "print('My name is', first_name, 'and my age is', age)"
   ]
  },
  {
   "cell_type": "code",
   "execution_count": 9,
   "id": "2224cc93-9ac8-4f8c-a542-cfa73b9338af",
   "metadata": {},
   "outputs": [
    {
     "name": "stdout",
     "output_type": "stream",
     "text": [
      "Schilling\n"
     ]
    }
   ],
   "source": [
    "print(last_name)"
   ]
  },
  {
   "cell_type": "code",
   "execution_count": 8,
   "id": "6fa9b56f-a013-46c6-a1fd-23e5b81fc096",
   "metadata": {},
   "outputs": [],
   "source": [
    "last_name = 'Schilling'"
   ]
  },
  {
   "cell_type": "code",
   "execution_count": 10,
   "id": "b898a5dc-95d2-4c3a-8988-22f15722e37b",
   "metadata": {},
   "outputs": [],
   "source": [
    "age = age - 3"
   ]
  },
  {
   "cell_type": "code",
   "execution_count": 11,
   "id": "bd62c3ab-e6fc-476a-8733-d8c774404316",
   "metadata": {},
   "outputs": [
    {
     "name": "stdout",
     "output_type": "stream",
     "text": [
      "My name is Amanda and my age is 43\n"
     ]
    }
   ],
   "source": [
    "print('My name is', first_name, 'and my age is', age)"
   ]
  },
  {
   "cell_type": "code",
   "execution_count": 12,
   "id": "60a77cd8-1ad7-42a8-9ae0-ef7fc741f572",
   "metadata": {},
   "outputs": [
    {
     "data": {
      "text/plain": [
       "7.24"
      ]
     },
     "execution_count": 12,
     "metadata": {},
     "output_type": "execute_result"
    }
   ],
   "source": [
    "3.24 + 4"
   ]
  },
  {
   "cell_type": "code",
   "execution_count": 13,
   "id": "3fbcda9f-4390-47e2-8511-17dce50de9a0",
   "metadata": {},
   "outputs": [
    {
     "data": {
      "text/plain": [
       "float"
      ]
     },
     "execution_count": 13,
     "metadata": {},
     "output_type": "execute_result"
    }
   ],
   "source": [
    "type(1/3)"
   ]
  },
  {
   "cell_type": "code",
   "execution_count": 14,
   "id": "312dfbdb-be35-45cd-9db4-fb74fa0eb171",
   "metadata": {},
   "outputs": [
    {
     "name": "stdout",
     "output_type": "stream",
     "text": [
      "0.3333333333333333\n"
     ]
    }
   ],
   "source": [
    "print(1/3)"
   ]
  },
  {
   "cell_type": "code",
   "execution_count": null,
   "id": "fbf71ac1-0078-4f51-b1aa-c50ba74e90be",
   "metadata": {},
   "outputs": [],
   "source": []
  }
 ],
 "metadata": {
  "kernelspec": {
   "display_name": "Python 3 (ipykernel)",
   "language": "python",
   "name": "python3"
  },
  "language_info": {
   "codemirror_mode": {
    "name": "ipython",
    "version": 3
   },
   "file_extension": ".py",
   "mimetype": "text/x-python",
   "name": "python",
   "nbconvert_exporter": "python",
   "pygments_lexer": "ipython3",
   "version": "3.11.6"
  }
 },
 "nbformat": 4,
 "nbformat_minor": 5
}
